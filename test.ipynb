{
 "cells": [
  {
   "cell_type": "code",
   "execution_count": 1,
   "metadata": {},
   "outputs": [
    {
     "name": "stdout",
     "output_type": "stream",
     "text": [
      "When calling ``fit(series)``, a moving window is applied, which results in a set of vectors of size `W`, where `W` is the window size.\n",
      "``fit(series)``를 호출하면 이동 창이 적용되어 'W' 크기의 벡터 집합이 생성됩니다. 여기서 'W'는 창 크기입니다.\n",
      "\n",
      "The `k`-means model is trained on these vectors.\n",
      "'k'-평균 모델은 이러한 벡터에 대해 학습됩니다.\n",
      "\n",
      "The ``score(series)`` function applies the same moving window and returns the distance to the closest of the `k` centroids for each vector of size `W`.\n",
      "``score(series)`` 함수는 동일한 이동 창을 적용하고 'W' 크기의 각 벡터에 대해 가장 가까운 'k' 중심까지의 거리를 반환합니다.\n",
      "\n",
      "Alternatively, the scorer has the functions ``fit_from_prediction()`` and ``score_from_prediction()``.\n",
      "또는 득점자에는 ``fit_from_prediction()`` 및 ``score_from_prediction()`` 함수가 있습니다.\n",
      "\n",
      "Both require two series (actual and prediction), and compute a \"difference\" series by applying the function ``diff_fn`` (default: absolute difference).\n",
      "두 가지 모두 두 개의 계열(실제 및 예측)이 필요하며 ``diff_fn`` 함수를 적용하여 \"차이\" 계열을 계산합니다(기본값: 절대 차이).\n",
      "\n",
      "The resulting series is then passed to the functions ``fit()`` and ``score()``, respectively.\n",
      "결과 계열은 각각 ``fit()`` 및 ``score()`` 함수에 전달됩니다.\n",
      "\n",
      "`component_wise` is a boolean parameter indicating how the model should behave with multivariate inputs series.\n",
      "`comComponent_wise`는 모델이 다변량 입력 계열과 어떻게 작동해야 하는지를 나타내는 부울 매개변수입니다.\n",
      "\n",
      "If set to True, the model will treat each component independently by fitting a different `k`-means model for each dimension.\n",
      "True로 설정하면 모델은 각 차원에 대해 서로 다른 'k'-평균 모델을 피팅하여 각 구성 요소를 독립적으로 처리합니다.\n",
      "\n",
      "If set to False, the model concatenates the dimensions in each windows of length `W` and computes the score using only one underlying `k`-means model.\n",
      "False로 설정하면 모델은 'W' 길이의 각 창에서 차원을 연결하고 하나의 기본 'k'-평균 모델만 사용하여 점수를 계산합니다.\n",
      "\n",
      "**Training with** ``fit()``:  The input can be a series (univariate or multivariate) or multiple series.\n",
      "**``fit()``을 사용한 훈련**: 입력은 계열(일변량 또는 다변량) 또는 다중 계열일 수 있습니다.\n",
      "\n",
      "The series will be sliced into equal size subsequences.\n",
      "계열은 동일한 크기의 하위 시퀀스로 분할됩니다.\n",
      "\n",
      "The subsequence will be of size `W` * `D`, with:  * `W` being the size of the window given as a parameter `window` * `D` being the dimension of the series (`D` = 1 if univariate or if `component_wise` is set to True)  For a series of length `N`, (`N` - `W` + 1)/W subsequences will be generated.\n",
      "하위 시퀀스의 크기는 `W` * `D`이며 다음과 같습니다. * `W`는 매개변수 `window`로 제공된 창의 크기입니다. * `D`는 계열의 차원입니다(`D` = 1인 경우). 일변량 또는 `comComponent_wise`가 True로 설정된 경우) 일련의 길이 `N`에 대해 (`N` - `W` + 1)/W 하위 시퀀스가 ​​생성됩니다.\n",
      "\n",
      "If a list of series is given of length L, each series will be partitioned into subsequences, and the results will be concatenated into an array of length L * number of subsequences of each series.\n",
      "계열 목록의 길이가 L로 주어지면 각 계열은 하위 시퀀스로 분할되고 결과는 길이 L * 각 계열의 하위 시퀀스 수 배열로 연결됩니다.\n",
      "\n",
      "The `k`-means model will be fitted on the generated subsequences.\n",
      "'k'-평균 모델은 생성된 하위 시퀀스에 맞춰집니다.\n",
      "\n",
      "The model will find `k` clusters in the vector space of dimension equal to the length of the subsequences (`D` * `W`).\n",
      "모델은 하위 시퀀스의 길이(`D` * `W`)와 동일한 차원의 벡터 공간에서 `k` 클러스터를 찾습니다.\n",
      "\n",
      "If `component_wise` is set to True, the algorithm will be applied to each dimension independently.\n",
      "'comComponent_wise'가 True로 설정되면 알고리즘이 각 차원에 독립적으로 적용됩니다.\n",
      "\n",
      "For each dimension, a `k`-means model will be trained.\n",
      "각 차원에 대해 'k'-평균 모델이 학습됩니다.\n",
      "\n",
      "**Computing score with** ``score()``:  The input can be a series (univariate or multivariate) or a sequence of series.\n",
      "**``score()``를 사용하여 점수 계산: 입력은 계열(일변량 또는 다변량) 또는 계열의 시퀀스일 수 있습니다.\n",
      "\n",
      "The given series must have the same dimension `D` as the data used to train the `k`-means model.\n",
      "주어진 계열은 'k'-평균 모델을 학습하는 데 사용된 데이터와 동일한 차원 'D'를 가져야 합니다.\n",
      "\n",
      "For each series, if the series is multivariate of dimension `D`:  * if `component_wise` is set to False: it returns a univariate series (dimension=1).\n",
      "각 계열에 대해 계열이 `D` 차원의 다변량인 경우: * `comComponent_wise`가 False로 설정된 경우: 일변량 계열(차원=1)을 반환합니다.\n",
      "\n",
      "It represents the anomaly score of the entire series in the considered window at each timestamp.\n",
      "이는 각 타임스탬프의 고려 창에서 전체 계열의 이상 점수를 나타냅니다.\n",
      "\n",
      "* if `component_wise` is set to True: it returns a multivariate series of dimension `D`.\n",
      "* `comComponent_wise`가 True로 설정된 경우: 차원 `D`의 다변량 계열을 반환합니다.\n",
      "\n",
      "Each dimension represents the anomaly score of the corresponding component of the input.\n",
      "각 차원은 입력의 해당 구성 요소에 대한 이상 점수를 나타냅니다.\n",
      "\n",
      "If the series is univariate, it returns a univariate series regardless of the parameter `component_wise`.\n",
      "계열이 일변량인 경우 매개변수 `comComponent_wise`에 관계없이 일변량 계열을 반환합니다.\n",
      "\n",
      "A window of size `W` is rolled on the series with a stride equal to 1.\n",
      "'W' 크기의 창은 1과 동일한 보폭으로 시리즈에 롤링됩니다.\n",
      "\n",
      "It is the same size window `W` used during the training phase.\n",
      "훈련 단계에서 사용된 것과 동일한 크기의 창 'W'입니다.\n",
      "\n",
      "Each value in the score series thus represents how anomalous the sample of the `W` previous values is.\n",
      "따라서 점수 시리즈의 각 값은 'W' 이전 값의 샘플이 얼마나 변칙적인지를 나타냅니다.\n",
      "\n"
     ]
    }
   ],
   "source": [
    "from module import PaperTranslate as PT\n",
    "\n",
    "pt = PT()\n",
    "pt.gtran()"
   ]
  },
  {
   "cell_type": "code",
   "execution_count": 2,
   "metadata": {},
   "outputs": [
    {
     "name": "stdout",
     "output_type": "stream",
     "text": [
      "변신 로봇\n"
     ]
    }
   ],
   "source": [
    "pt.word_trans('Transformer')"
   ]
  }
 ],
 "metadata": {
  "kernelspec": {
   "display_name": "solar",
   "language": "python",
   "name": "python3"
  },
  "language_info": {
   "codemirror_mode": {
    "name": "ipython",
    "version": 3
   },
   "file_extension": ".py",
   "mimetype": "text/x-python",
   "name": "python",
   "nbconvert_exporter": "python",
   "pygments_lexer": "ipython3",
   "version": "3.9.16"
  },
  "orig_nbformat": 4,
  "vscode": {
   "interpreter": {
    "hash": "059bfee3496ce0637f301c1e92ccd9e942c5b62c8973811b39bfbef58f143054"
   }
  }
 },
 "nbformat": 4,
 "nbformat_minor": 2
}
