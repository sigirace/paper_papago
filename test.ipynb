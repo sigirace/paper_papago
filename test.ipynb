{
 "cells": [
  {
   "cell_type": "code",
   "execution_count": 1,
   "metadata": {},
   "outputs": [
    {
     "name": "stdout",
     "output_type": "stream",
     "text": [
      "Recent work has shown that simple linear models can outperform several Transformer based approaches in long term time-series forecasting.\n",
      "최근 연구에 따르면 간단한 선형 모델이 장기 시계열 예측에서 여러 Transformer 기반 접근 방식보다 뛰어난 성능을 발휘할 수 있는 것으로 나타났습니다.\n",
      "\n",
      "Motivated by this, we propose a Multi-layer Perceptron (MLP) based encoder-decoder model, Time-series Dense Encoder (TiDE), for long-term time-series forecasting that enjoys the simplicity and speed of linear models while also being able to handle covariates and non-linear dependencies.\n",
      "이에 동기를 부여하여 선형 모델의 단순성과 속도를 즐기면서 장기 시계열 예측을 위한 MLP(Multi-layer Perceptron) 기반 인코더-디코더 모델인 TiDE(Time-series Dense Encoder)를 제안합니다. 공변량 및 비선형 종속성을 처리합니다.\n",
      "\n",
      "Theoretically, we prove that the simplest linear analogue of our model can achieve near optimal error rate for linear dynamical systems (LDS) under some assumptions.\n",
      "이론적으로 우리는 모델의 가장 간단한 선형 아날로그가 일부 가정 하에서 선형 동적 시스템(LDS)에 대해 거의 최적의 오류율을 달성할 수 있음을 증명합니다.\n",
      "\n",
      "Empirically, we show that our method can match or outperform prior approaches on popular long-term time-series forecasting benchmarks while being 5-10x faster than the best Transformer based model.\n",
      "경험적으로 우리는 우리의 방법이 최고의 Transformer 기반 모델보다 5~10배 더 빠르면서 인기 있는 장기 시계열 예측 벤치마크에 대한 이전 접근 방식과 일치하거나 능가할 수 있음을 보여줍니다.\n",
      "\n"
     ]
    }
   ],
   "source": [
    "from module import PaperTranslate as PT\n",
    "\n",
    "pt = PT()\n",
    "pt.gtran()"
   ]
  },
  {
   "cell_type": "code",
   "execution_count": 2,
   "metadata": {},
   "outputs": [
    {
     "name": "stdout",
     "output_type": "stream",
     "text": [
      "변신 로봇\n"
     ]
    }
   ],
   "source": [
    "pt.word_trans('Transformer')"
   ]
  }
 ],
 "metadata": {
  "kernelspec": {
   "display_name": "solar",
   "language": "python",
   "name": "python3"
  },
  "language_info": {
   "codemirror_mode": {
    "name": "ipython",
    "version": 3
   },
   "file_extension": ".py",
   "mimetype": "text/x-python",
   "name": "python",
   "nbconvert_exporter": "python",
   "pygments_lexer": "ipython3",
   "version": "3.8.16"
  },
  "orig_nbformat": 4,
  "vscode": {
   "interpreter": {
    "hash": "059bfee3496ce0637f301c1e92ccd9e942c5b62c8973811b39bfbef58f143054"
   }
  }
 },
 "nbformat": 4,
 "nbformat_minor": 2
}
